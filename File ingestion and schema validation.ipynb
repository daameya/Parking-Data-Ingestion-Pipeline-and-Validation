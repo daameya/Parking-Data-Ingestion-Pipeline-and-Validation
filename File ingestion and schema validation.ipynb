{
 "cells": [
  {
   "cell_type": "code",
   "execution_count": 5,
   "metadata": {},
   "outputs": [],
   "source": [
    "import os\n",
    "import time"
   ]
  },
  {
   "cell_type": "code",
   "execution_count": 6,
   "metadata": {},
   "outputs": [
    {
     "data": {
      "text/plain": [
       "2086913576"
      ]
     },
     "execution_count": 6,
     "metadata": {},
     "output_type": "execute_result"
    }
   ],
   "source": [
    "#Size of the file\n",
    "os.path.getsize('Parking_Violations_2017.csv')"
   ]
  },
  {
   "cell_type": "markdown",
   "metadata": {},
   "source": [
    "# Read in the data with Dask"
   ]
  },
  {
   "cell_type": "code",
   "execution_count": 7,
   "metadata": {},
   "outputs": [
    {
     "name": "stdout",
     "output_type": "stream",
     "text": [
      "Read csv with dask:  0.049002647399902344 sec\n"
     ]
    }
   ],
   "source": [
    "from dask import dataframe as dd\n",
    "start = time.time()\n",
    "dask_df = dd.read_csv('Parking_Violations_2017.csv')\n",
    "end = time.time()\n",
    "print(\"Read csv with dask: \",(end-start),\"sec\")"
   ]
  },
  {
   "cell_type": "markdown",
   "metadata": {},
   "source": [
    "# Read in the data with Pandas"
   ]
  },
  {
   "cell_type": "code",
   "execution_count": 4,
   "metadata": {},
   "outputs": [
    {
     "name": "stderr",
     "output_type": "stream",
     "text": [
      "C:\\Users\\1998a\\AppData\\Local\\Temp\\ipykernel_16408\\1646183780.py:3: DtypeWarning: Columns (18,38) have mixed types. Specify dtype option on import or set low_memory=False.\n",
      "  df = pd.read_csv('Data/Parking_Violations_2017.csv')\n"
     ]
    },
    {
     "name": "stdout",
     "output_type": "stream",
     "text": [
      "Read csv with pandas:  218.9015564918518 sec\n"
     ]
    }
   ],
   "source": [
    "import pandas as pd\n",
    "start = time.time()\n",
    "df = pd.read_csv('Data/Parking_Violations_2017.csv')\n",
    "end = time.time()\n",
    "print(\"Read csv with pandas: \",(end-start),\"sec\")"
   ]
  },
  {
   "cell_type": "markdown",
   "metadata": {},
   "source": [
    "# Read in the data with Modin and Ray"
   ]
  },
  {
   "cell_type": "code",
   "execution_count": 8,
   "metadata": {},
   "outputs": [
    {
     "name": "stderr",
     "output_type": "stream",
     "text": [
      "2023-08-09 14:41:26,257\tINFO util.py:159 -- Missing packages: ['ipywidgets']. Run `pip install -U ipywidgets`, then restart the notebook server for rich notebook output.\n",
      "2023-08-09 14:41:43,732\tINFO worker.py:1612 -- Started a local Ray instance. View the dashboard at \u001b[1m\u001b[32mhttp://127.0.0.1:8265 \u001b[39m\u001b[22m\n",
      "UserWarning: When using a pre-initialized Ray cluster, please ensure that the runtime env sets environment variable __MODIN_AUTOIMPORT_PANDAS__ to 1\n"
     ]
    },
    {
     "name": "stdout",
     "output_type": "stream",
     "text": [
      "Read csv with modin and ray:  130.88630771636963 sec\n"
     ]
    }
   ],
   "source": [
    "import modin.pandas as pd\n",
    "import ray\n",
    "ray.shutdown()\n",
    "ray.init()\n",
    "start = time.time()\n",
    "df = pd.read_csv('Data/Parking_Violations_2017.csv')\n",
    "end = time.time()\n",
    "print(\"Read csv with modin and ray: \",(end-start),\"sec\")"
   ]
  },
  {
   "cell_type": "markdown",
   "metadata": {},
   "source": [
    "# Here Dask is better than Pandas, Modin and Ray, with the least reading time of 0.04 sec"
   ]
  },
  {
   "cell_type": "code",
   "execution_count": 10,
   "metadata": {},
   "outputs": [],
   "source": [
    "from dask import dataframe as dd\n",
    "df = dd.read_csv('Parking_Violations_2017.csv',delimiter=',')"
   ]
  },
  {
   "cell_type": "code",
   "execution_count": 11,
   "metadata": {},
   "outputs": [
    {
     "name": "stdout",
     "output_type": "stream",
     "text": [
      "<class 'dask.dataframe.core.DataFrame'>\n",
      "Columns: 43 entries, Summons Number to Double Parking Violation\n",
      "dtypes: object(23), float64(7), int64(13)"
     ]
    }
   ],
   "source": [
    "df.info()"
   ]
  },
  {
   "cell_type": "code",
   "execution_count": 12,
   "metadata": {},
   "outputs": [
    {
     "name": "stderr",
     "output_type": "stream",
     "text": [
      "DtypeWarning: Columns (18,38) have mixed types. Specify dtype option on import or set low_memory=False.\n"
     ]
    },
    {
     "data": {
      "text/plain": [
       "10803028"
      ]
     },
     "execution_count": 12,
     "metadata": {},
     "output_type": "execute_result"
    }
   ],
   "source": [
    "#No. of Rows\n",
    "len(df)"
   ]
  },
  {
   "cell_type": "code",
   "execution_count": 13,
   "metadata": {},
   "outputs": [
    {
     "data": {
      "text/plain": [
       "43"
      ]
     },
     "execution_count": 13,
     "metadata": {},
     "output_type": "execute_result"
    }
   ],
   "source": [
    "#No, of Columns\n",
    "len(df.columns)"
   ]
  },
  {
   "cell_type": "code",
   "execution_count": 14,
   "metadata": {},
   "outputs": [],
   "source": [
    "# remove special character\n",
    "df.columns=df.columns.str.replace('[#,@,&]','')"
   ]
  },
  {
   "cell_type": "code",
   "execution_count": 15,
   "metadata": {},
   "outputs": [],
   "source": [
    "#To remove white space from columns\n",
    "df.columns = df.columns.str.replace(' ', '')"
   ]
  },
  {
   "cell_type": "code",
   "execution_count": 16,
   "metadata": {},
   "outputs": [
    {
     "data": {
      "text/plain": [
       "Index(['SummonsNumber', 'PlateID', 'RegistrationState', 'PlateType',\n",
       "       'IssueDate', 'ViolationCode', 'VehicleBodyType', 'VehicleMake',\n",
       "       'IssuingAgency', 'StreetCode1', 'StreetCode2', 'StreetCode3',\n",
       "       'VehicleExpirationDate', 'ViolationLocation', 'ViolationPrecinct',\n",
       "       'IssuerPrecinct', 'IssuerCode', 'IssuerCommand', 'IssuerSquad',\n",
       "       'ViolationTime', 'TimeFirstObserved', 'ViolationCounty',\n",
       "       'ViolationInFrontOfOrOpposite', 'HouseNumber', 'StreetName',\n",
       "       'IntersectingStreet', 'DateFirstObserved', 'LawSection', 'SubDivision',\n",
       "       'ViolationLegalCode', 'DaysParkingInEffect', 'FromHoursInEffect',\n",
       "       'ToHoursInEffect', 'VehicleColor', 'UnregisteredVehicle?',\n",
       "       'VehicleYear', 'MeterNumber', 'FeetFromCurb', 'ViolationPostCode',\n",
       "       'ViolationDescription', 'NoStandingorStoppingViolation',\n",
       "       'HydrantViolation', 'DoubleParkingViolation'],\n",
       "      dtype='object')"
      ]
     },
     "execution_count": 16,
     "metadata": {},
     "output_type": "execute_result"
    }
   ],
   "source": [
    "data=df.columns\n",
    "data"
   ]
  },
  {
   "cell_type": "markdown",
   "metadata": {},
   "source": [
    "# Validation"
   ]
  },
  {
   "cell_type": "code",
   "execution_count": 12,
   "metadata": {},
   "outputs": [],
   "source": []
  },
  {
   "cell_type": "code",
   "execution_count": 41,
   "metadata": {},
   "outputs": [
    {
     "name": "stdout",
     "output_type": "stream",
     "text": [
      "Overwriting utility.py\n"
     ]
    }
   ],
   "source": [
    "%%writefile utility.py\n",
    "import logging\n",
    "import os\n",
    "import subprocess\n",
    "import yaml\n",
    "import pandas as pd\n",
    "import datetime \n",
    "import gc\n",
    "import re\n",
    "import yaml\n",
    "\n",
    "def read_config_file(filepath):\n",
    "    with open(filepath, 'r') as stream:\n",
    "        try:\n",
    "            return yaml.safe_load(stream)\n",
    "        except yaml.YAMLError as exc:\n",
    "            logging.error(exc)\n",
    "\n",
    "def replacer(string, char):\n",
    "    pattern = char + '{2,}'\n",
    "    string = re.sub(pattern, char, string)\n",
    "    return string\n",
    "\n",
    "def col_header_val(df,table_config):\n",
    "    \n",
    "    df.columns = df.columns.str.lower()\n",
    "    df.columns = df.columns.str.replace('[^\\w]','_',regex=True)\n",
    "    df.columns = list(map(lambda x: x.strip('_'), list(df.columns)))\n",
    "    df.columns = list(map(lambda x: replacer(x,'_'), list(df.columns)))\n",
    "    expected_col = list(map(lambda x: x.lower(),  table_config['columns']))\n",
    "    expected_col.sort()\n",
    "    df.columns =list(map(lambda x: x.lower(), list(df.columns)))\n",
    "    df = df.reindex(sorted(df.columns), axis=1)\n",
    "    if len(df.columns) == len(expected_col) and list(expected_col)  == list(df.columns):\n",
    "        print(\"column name and column length validation passed\")\n",
    "        return 1\n",
    "    else:\n",
    "        print(\"column name and column length validation failed\")\n",
    "        mismatched_columns_file = list(set(df.columns).difference(expected_col))\n",
    "        print(\"Following File columns are not in the YAML file\",mismatched_columns_file)\n",
    "        missing_YAML_file = list(set(expected_col).difference(df.columns))\n",
    "        print(\"Following YAML columns are not in the file uploaded\",missing_YAML_file)\n",
    "        logging.info(f'df columns: {df.columns}')\n",
    "        logging.info(f'expected columns: {expected_col}')\n",
    "        return 0"
   ]
  },
  {
   "cell_type": "code",
   "execution_count": 42,
   "metadata": {},
   "outputs": [
    {
     "name": "stdout",
     "output_type": "stream",
     "text": [
      "Overwriting store.yaml\n"
     ]
    }
   ],
   "source": [
    "%%writefile store.yaml\n",
    "file_type: csv\n",
    "dataset_name: file\n",
    "file_name: Parking_Violations_2017\n",
    "table_name: edsurv\n",
    "inbound_delimiter: \",\"\n",
    "outbound_delimiter: \"|\"\n",
    "skip_leading_rows: 1\n",
    "columns: \n",
    "    - SummonsNumber\n",
    "    - PlateID\n",
    "    - RegistrationState\n",
    "    - PlateType\n",
    "    - IssueDate\n",
    "    - ViolationCode\n",
    "    - VehicleBodyType\n",
    "    - VehicleMake\n",
    "    - IssuingAgency\n",
    "    - StreetCode1\n",
    "    - StreetCode2\n",
    "    - StreetCode3\n",
    "    - VehicleExpirationDate\n",
    "    - ViolationLocation\n",
    "    - ViolationPrecinct\n",
    "    - IssuerPrecinct\n",
    "    - IssuerCode\n",
    "    - IssuerCommand\n",
    "    - IssuerSquad\n",
    "    - ViolationTime\n",
    "    - TimeFirstObserved\n",
    "    - ViolationCountry\n",
    "    - ViolationInFrontOfOrOpposite\n",
    "    - HouseNumber\n",
    "    - StreetName\n",
    "    - IntersectingStreet\n",
    "    - DateFirstObserved\n",
    "    - LawSection\n",
    "    - SubDivision\n",
    "    - ViolationLegalCode\n",
    "    - DaysParkingInEffect\n",
    "    - FromHoursInEffect\n",
    "    - ToHoursInEffect\n",
    "    - VehicleColor\n",
    "    - UnregisteredVehicle?\n",
    "    - VehicleYear\n",
    "    - MeterNumber\n",
    "    - FeetFromCurb\n",
    "    - ViolationPostCode\n",
    "    - ViolationDescription\n",
    "    - NoStandingorStoppingViolation\n",
    "    - HydrantViolation\n",
    "    - DoubleParkingViolation"
   ]
  },
  {
   "cell_type": "code",
   "execution_count": 1,
   "metadata": {},
   "outputs": [],
   "source": [
    "# Reading config file\n",
    "import yaml\n",
    "import utility\n",
    "config_data = utility.read_config_file(\"store.yaml\")"
   ]
  },
  {
   "cell_type": "code",
   "execution_count": 2,
   "metadata": {},
   "outputs": [
    {
     "data": {
      "text/plain": [
       "{'file_type': 'csv',\n",
       " 'dataset_name': 'file',\n",
       " 'file_name': 'Parking_Violations_2017',\n",
       " 'table_name': 'edsurv',\n",
       " 'inbound_delimiter': ',',\n",
       " 'outbound_delimiter': '|',\n",
       " 'skip_leading_rows': 1,\n",
       " 'columns': ['SummonsNumber',\n",
       "  'PlateID',\n",
       "  'RegistrationState',\n",
       "  'PlateType',\n",
       "  'IssueDate',\n",
       "  'ViolationCode',\n",
       "  'VehicleBodyType',\n",
       "  'VehicleMake',\n",
       "  'IssuingAgency - StreetCode1 - StreetCode2 - StreetCode3 - VehicleExpirationDate - ViolationLocation - ViolationPrecinct - IssuerPrecinct - IssuerCode - IssuerCommand - IssuerSquad - ViolationTime - TimeFirstObserved - ViolationCountry - ViolationInFrontOfOrOpposite - HouseNumber - StreetName - IntersectingStreet - DateFirstObserved - LawSection - SubDivision - ViolationLegalCode - DaysParkingInEffect - FromHoursInEffect - ToHoursInEffect - VehicleColor - UnregisteredVehicle? - VehicleYear - MeterNumber - FeetFromCurb - ViolationPostCode - ViolationDescription - NoStandingorStoppingViolation - HydrantViolation - DoubleParkingViolation']}"
      ]
     },
     "execution_count": 2,
     "metadata": {},
     "output_type": "execute_result"
    }
   ],
   "source": [
    "#data of config file\n",
    "config_data"
   ]
  },
  {
   "cell_type": "code",
   "execution_count": 17,
   "metadata": {},
   "outputs": [],
   "source": [
    "# Reading process of the file using Dask\n",
    "from dask import dataframe as dd\n",
    "df_sample = dd.read_csv('Data/Parking_Violations_2017.csv',delimiter=',')\n"
   ]
  },
  {
   "cell_type": "code",
   "execution_count": 4,
   "metadata": {},
   "outputs": [],
   "source": [
    "#Reading the file using config file\n",
    "file_type = config_data['file_type']\n",
    "source_file = \"Data/\" + config_data['file_name'] + f'.{file_type}'"
   ]
  },
  {
   "cell_type": "code",
   "execution_count": 23,
   "metadata": {},
   "outputs": [
    {
     "name": "stderr",
     "output_type": "stream",
     "text": [
      "DtypeWarning: Columns (18,38) have mixed types. Specify dtype option on import or set low_memory=False.\n"
     ]
    }
   ],
   "source": [
    "import pandas as pd\n",
    "df = pd.read_csv(source_file)"
   ]
  },
  {
   "cell_type": "code",
   "execution_count": 25,
   "metadata": {},
   "outputs": [
    {
     "name": "stdout",
     "output_type": "stream",
     "text": [
      "column name and column length validation failed\n",
      "Following File columns are not in the YAML file ['issuer_code', 'sub_division', 'street_code3', 'feet_from_curb', 'summons_number', 'to_hours_in_effect', 'violation_county', 'days_parking_in_effect', 'violation_precinct', 'hydrant_violation', 'violation_time', 'plate_type', 'issuing_agency', 'date_first_observed', 'unregistered_vehicle', 'double_parking_violation', 'time_first_observed', 'street_code1', 'vehicle_color', 'house_number', 'from_hours_in_effect', 'issuer_command', 'registration_state', 'plate_id', 'street_name', 'issuer_precinct', 'issuer_squad', 'vehicle_expiration_date', 'vehicle_year', 'street_code2', 'violation_description', 'violation_post_code', 'violation_legal_code', 'no_standing_or_stopping_violation', 'violation_in_front_of_or_opposite', 'vehicle_body_type', 'vehicle_make', 'violation_location', 'violation_code', 'law_section', 'issue_date', 'meter_number', 'intersecting_street']\n",
      "Following YAML columns are not in the file uploaded ['platetype', 'violationcode', 'summonsnumber', 'issuedate', 'vehiclemake', 'issuingagency - streetcode1 - streetcode2 - streetcode3 - vehicleexpirationdate - violationlocation - violationprecinct - issuerprecinct - issuercode - issuercommand - issuersquad - violationtime - timefirstobserved - violationcountry - violationinfrontoforopposite - housenumber - streetname - intersectingstreet - datefirstobserved - lawsection - subdivision - violationlegalcode - daysparkingineffect - fromhoursineffect - tohoursineffect - vehiclecolor - unregisteredvehicle? - vehicleyear - meternumber - feetfromcurb - violationpostcode - violationdescription - nostandingorstoppingviolation - hydrantviolation - doubleparkingviolation', 'vehiclebodytype', 'registrationstate', 'plateid']\n"
     ]
    },
    {
     "data": {
      "text/plain": [
       "0"
      ]
     },
     "execution_count": 25,
     "metadata": {},
     "output_type": "execute_result"
    }
   ],
   "source": [
    "#validating the header of the file\n",
    "utility.col_header_val(df,config_data)"
   ]
  },
  {
   "cell_type": "code",
   "execution_count": 26,
   "metadata": {},
   "outputs": [
    {
     "name": "stdout",
     "output_type": "stream",
     "text": [
      "columns of files are: Index(['summons_number', 'plate_id', 'registration_state', 'plate_type',\n",
      "       'issue_date', 'violation_code', 'vehicle_body_type', 'vehicle_make',\n",
      "       'issuing_agency', 'street_code1', 'street_code2', 'street_code3',\n",
      "       'vehicle_expiration_date', 'violation_location', 'violation_precinct',\n",
      "       'issuer_precinct', 'issuer_code', 'issuer_command', 'issuer_squad',\n",
      "       'violation_time', 'time_first_observed', 'violation_county',\n",
      "       'violation_in_front_of_or_opposite', 'house_number', 'street_name',\n",
      "       'intersecting_street', 'date_first_observed', 'law_section',\n",
      "       'sub_division', 'violation_legal_code', 'days_parking_in_effect',\n",
      "       'from_hours_in_effect', 'to_hours_in_effect', 'vehicle_color',\n",
      "       'unregistered_vehicle', 'vehicle_year', 'meter_number',\n",
      "       'feet_from_curb', 'violation_post_code', 'violation_description',\n",
      "       'no_standing_or_stopping_violation', 'hydrant_violation',\n",
      "       'double_parking_violation'],\n",
      "      dtype='object')\n",
      "columns of YAML are: ['SummonsNumber', 'PlateID', 'RegistrationState', 'PlateType', 'IssueDate', 'ViolationCode', 'VehicleBodyType', 'VehicleMake', 'IssuingAgency - StreetCode1 - StreetCode2 - StreetCode3 - VehicleExpirationDate - ViolationLocation - ViolationPrecinct - IssuerPrecinct - IssuerCode - IssuerCommand - IssuerSquad - ViolationTime - TimeFirstObserved - ViolationCountry - ViolationInFrontOfOrOpposite - HouseNumber - StreetName - IntersectingStreet - DateFirstObserved - LawSection - SubDivision - ViolationLegalCode - DaysParkingInEffect - FromHoursInEffect - ToHoursInEffect - VehicleColor - UnregisteredVehicle? - VehicleYear - MeterNumber - FeetFromCurb - ViolationPostCode - ViolationDescription - NoStandingorStoppingViolation - HydrantViolation - DoubleParkingViolation']\n"
     ]
    }
   ],
   "source": [
    "print(\"columns of files are:\" ,df.columns)\n",
    "print(\"columns of YAML are:\" ,config_data['columns'])"
   ]
  },
  {
   "cell_type": "code",
   "execution_count": 28,
   "metadata": {},
   "outputs": [
    {
     "name": "stdout",
     "output_type": "stream",
     "text": [
      "column name and column length validation failed\n",
      "Following File columns are not in the YAML file ['issuer_code', 'sub_division', 'street_code3', 'feet_from_curb', 'summons_number', 'to_hours_in_effect', 'violation_county', 'days_parking_in_effect', 'violation_precinct', 'hydrant_violation', 'violation_time', 'plate_type', 'issuing_agency', 'date_first_observed', 'unregistered_vehicle', 'double_parking_violation', 'time_first_observed', 'street_code1', 'vehicle_color', 'house_number', 'from_hours_in_effect', 'issuer_command', 'registration_state', 'plate_id', 'street_name', 'issuer_precinct', 'issuer_squad', 'vehicle_expiration_date', 'vehicle_year', 'street_code2', 'violation_description', 'violation_post_code', 'violation_legal_code', 'no_standing_or_stopping_violation', 'violation_in_front_of_or_opposite', 'vehicle_body_type', 'vehicle_make', 'violation_location', 'violation_code', 'law_section', 'issue_date', 'meter_number', 'intersecting_street']\n",
      "Following YAML columns are not in the file uploaded ['platetype', 'violationcode', 'summonsnumber', 'issuedate', 'vehiclemake', 'issuingagency - streetcode1 - streetcode2 - streetcode3 - vehicleexpirationdate - violationlocation - violationprecinct - issuerprecinct - issuercode - issuercommand - issuersquad - violationtime - timefirstobserved - violationcountry - violationinfrontoforopposite - housenumber - streetname - intersectingstreet - datefirstobserved - lawsection - subdivision - violationlegalcode - daysparkingineffect - fromhoursineffect - tohoursineffect - vehiclecolor - unregisteredvehicle? - vehicleyear - meternumber - feetfromcurb - violationpostcode - violationdescription - nostandingorstoppingviolation - hydrantviolation - doubleparkingviolation', 'vehiclebodytype', 'registrationstate', 'plateid']\n",
      "validation failed\n"
     ]
    }
   ],
   "source": [
    "if utility.col_header_val(df,config_data)==0:\n",
    "    print(\"validation failed\")\n",
    "else:\n",
    "    print(\"col validation passed\")"
   ]
  },
  {
   "cell_type": "code",
   "execution_count": 32,
   "metadata": {},
   "outputs": [],
   "source": [
    "import csv\n",
    "\n",
    "csv_filename = \"Parking_Violations_2017.csv\"\n",
    "formatted_data = []\n",
    "\n",
    "with open(csv_filename, \"r\") as csvfile:\n",
    "    csvreader = csv.reader(csvfile)\n",
    "    for row in csvreader:\n",
    "        formatted_row = \"|\".join(row)\n",
    "        formatted_data.append(formatted_row)\n",
    "\n",
    "final_data = \"\\n\".join(formatted_data)\n"
   ]
  },
  {
   "cell_type": "code",
   "execution_count": 39,
   "metadata": {},
   "outputs": [],
   "source": [
    "import gzip\n",
    "\n",
    "output_filename = \"Parking_Violation_2017.csv.gz/Parking_2017_compressed.gz\"\n",
    "with gzip.open(output_filename, \"wb\") as f:\n",
    "    f.write(final_data.encode(\"utf-8\"))\n"
   ]
  },
  {
   "cell_type": "code",
   "execution_count": 46,
   "metadata": {},
   "outputs": [
    {
     "name": "stdout",
     "output_type": "stream",
     "text": [
      "Parking_2017_compressed.gz\n"
     ]
    }
   ],
   "source": [
    "#number of files in gz format folder\n",
    "import os\n",
    "entries = os.listdir('Parking_Violation_2017.csv.gz/')\n",
    "for entry in entries:\n",
    "    print(entry)"
   ]
  },
  {
   "cell_type": "code",
   "execution_count": 47,
   "metadata": {},
   "outputs": [
    {
     "data": {
      "text/plain": [
       "0"
      ]
     },
     "execution_count": 47,
     "metadata": {},
     "output_type": "execute_result"
    }
   ],
   "source": [
    "#size of the gz format folder\n",
    "os.path.getsize('Parking_Violation_2017.csv.gz')"
   ]
  }
 ],
 "metadata": {
  "kernelspec": {
   "display_name": "Python 3",
   "language": "python",
   "name": "python3"
  },
  "language_info": {
   "codemirror_mode": {
    "name": "ipython",
    "version": 3
   },
   "file_extension": ".py",
   "mimetype": "text/x-python",
   "name": "python",
   "nbconvert_exporter": "python",
   "pygments_lexer": "ipython3",
   "version": "3.8.0"
  }
 },
 "nbformat": 4,
 "nbformat_minor": 4
}
